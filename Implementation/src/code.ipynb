{
 "cells": [
  {
   "cell_type": "markdown",
   "metadata": {},
   "source": [
    "# AI-Based Medicinal Plant Detection System"
   ]
  },
  {
   "cell_type": "markdown",
   "metadata": {},
   "source": [
    "## Version 1\n",
    "*Date:* 2024-02-17"
   ]
  },
  {
   "cell_type": "markdown",
   "metadata": {},
   "source": [
    "### Modules import"
   ]
  },
  {
   "cell_type": "code",
   "execution_count": 5,
   "metadata": {},
   "outputs": [],
   "source": [
    "import os\n",
    "import shutil\n",
    "import glob\n",
    "import random"
   ]
  },
  {
   "cell_type": "markdown",
   "metadata": {},
   "source": [
    "### Directories"
   ]
  },
  {
   "cell_type": "code",
   "execution_count": 7,
   "metadata": {},
   "outputs": [
    {
     "name": "stdout",
     "output_type": "stream",
     "text": [
      "Directory Aloevera : Training files copied = 131 and Test files copied = 33\n",
      "Directory Amla : Training files copied = 116 and Test files copied = 30\n",
      "Directory Amruta_Balli : Training files copied = 116 and Test files copied = 30\n",
      "Directory Arali : Training files copied = 116 and Test files copied = 30\n",
      "Directory Ashoka : Training files copied = 116 and Test files copied = 30\n",
      "Directory Ashwagandha : Training files copied = 116 and Test files copied = 30\n",
      "Directory Avacado : Training files copied = 116 and Test files copied = 30\n",
      "Directory Bamboo : Training files copied = 116 and Test files copied = 30\n",
      "Directory Basale : Training files copied = 116 and Test files copied = 30\n",
      "Directory Betel : Training files copied = 120 and Test files copied = 31\n",
      "Directory Betel_Nut : Training files copied = 116 and Test files copied = 30\n",
      "Directory Brahmi : Training files copied = 116 and Test files copied = 30\n",
      "Directory Castor : Training files copied = 128 and Test files copied = 32\n",
      "Directory Curry_Leaf : Training files copied = 116 and Test files copied = 30\n",
      "Directory Doddapatre : Training files copied = 116 and Test files copied = 30\n",
      "Directory Ekka : Training files copied = 116 and Test files copied = 30\n",
      "Directory Ganike : Training files copied = 92 and Test files copied = 23\n",
      "Directory Gauva : Training files copied = 116 and Test files copied = 30\n",
      "Directory Geranium : Training files copied = 116 and Test files copied = 30\n",
      "Directory Henna : Training files copied = 120 and Test files copied = 30\n",
      "Directory Hibiscus : Training files copied = 132 and Test files copied = 33\n",
      "Directory Honge : Training files copied = 116 and Test files copied = 30\n",
      "Directory Insulin : Training files copied = 116 and Test files copied = 30\n",
      "Directory Jasmine : Training files copied = 149 and Test files copied = 38\n",
      "Directory Lemon : Training files copied = 116 and Test files copied = 30\n",
      "Directory Lemon_grass : Training files copied = 116 and Test files copied = 30\n",
      "Directory Mango : Training files copied = 116 and Test files copied = 30\n",
      "Directory Mint : Training files copied = 122 and Test files copied = 31\n",
      "Directory Nagadali : Training files copied = 121 and Test files copied = 31\n",
      "Directory Neem : Training files copied = 116 and Test files copied = 30\n",
      "Directory Nithyapushpa : Training files copied = 116 and Test files copied = 30\n",
      "Directory Nooni : Training files copied = 116 and Test files copied = 30\n",
      "Directory Pappaya : Training files copied = 116 and Test files copied = 30\n",
      "Directory Pepper : Training files copied = 116 and Test files copied = 30\n",
      "Directory Pomegranate : Training files copied = 116 and Test files copied = 30\n",
      "Directory Raktachandini : Training files copied = 116 and Test files copied = 30\n",
      "Directory Rose : Training files copied = 134 and Test files copied = 34\n",
      "Directory Sapota : Training files copied = 116 and Test files copied = 30\n",
      "Directory Tulasi : Training files copied = 116 and Test files copied = 30\n",
      "Directory Wood_sorel : Training files copied = 116 and Test files copied = 30\n",
      "Done!\n"
     ]
    }
   ],
   "source": [
    "sourceDirectory = \"C:\\\\Users\\\\kumar\\\\OneDrive\\\\Documents\\\\AI_Based_Medicinal_Plant_Detection\\\\Dataset\\\\Indian_Medicinal_Leaves_Image_Datasets\\\\Medicinal_plant_dataset\"\n",
    "\n",
    "trainDirectory = \"data\\\\Medicinal_plant_dataset\\\\train\"\n",
    "testDirectory = \"data\\\\Medicinal_plant_dataset\\\\test\"\n",
    "# Check if the directory exists\n",
    "# if os.path.exists(sourceDirectory):\n",
    "#    print(f\"The directory {sourceDirectory} exists.\")\n",
    "# else:\n",
    "#    print(f\"The directory {sourceDirectory} does not exist.\")\n",
    "\n",
    "directories = [d for d in os.listdir(sourceDirectory) if os.path .isdir(os.path.join(sourceDirectory, d))]\n",
    "\n",
    "for directory in directories:\n",
    "   files = glob.glob(os.path.join(sourceDirectory, directory, '*jpg'))\n",
    "\n",
    "   random.shuffle(files)\n",
    "   split_idx = int(0.8 * len(files))\n",
    "   train_files = files[:split_idx]\n",
    "   test_files = files[split_idx:]\n",
    "   \n",
    "   train_dir = os.path.join(trainDirectory, directory)\n",
    "   test_dir = os.path.join(testDirectory, directory)\n",
    "   os.makedirs(train_dir, exist_ok = True)\n",
    "   os.makedirs(test_dir, exist_ok = True)\n",
    "   \n",
    "   for i, file in enumerate(train_files, start = 1):\n",
    "      new_name = os.path.join(train_dir, f\"{directory}_{i}.jpg\")\n",
    "      shutil.copy2(file, new_name)\n",
    "      \n",
    "   for i, file in enumerate(test_files, start = 1):\n",
    "      new_name = os.path.join(test_dir, f\"{directory}_{i}.jpg\")\n",
    "      shutil.copy2(file, new_name)\n",
    "      \n",
    "   print(f\"Directory {directory} : Training files copied = {len(train_files)} and Test files copied = {len(test_files)}\")\n",
    "print(\"Done!\")\n",
    "   # print(train_dir)\n",
    "   # print(test_dir)"
   ]
  }
 ],
 "metadata": {
  "kernelspec": {
   "display_name": "Python 3",
   "language": "python",
   "name": "python3"
  },
  "language_info": {
   "codemirror_mode": {
    "name": "ipython",
    "version": 3
   },
   "file_extension": ".py",
   "mimetype": "text/x-python",
   "name": "python",
   "nbconvert_exporter": "python",
   "pygments_lexer": "ipython3",
   "version": "3.10.13"
  }
 },
 "nbformat": 4,
 "nbformat_minor": 2
}
